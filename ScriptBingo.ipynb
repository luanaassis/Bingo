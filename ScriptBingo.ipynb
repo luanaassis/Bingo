{
  "nbformat": 4,
  "nbformat_minor": 0,
  "metadata": {
    "colab": {
      "name": "ScriptBingo.ipynb",
      "provenance": [],
      "include_colab_link": true
    },
    "kernelspec": {
      "name": "python3",
      "display_name": "Python 3"
    },
    "language_info": {
      "name": "python"
    }
  },
  "cells": [
    {
      "cell_type": "markdown",
      "metadata": {
        "id": "view-in-github",
        "colab_type": "text"
      },
      "source": [
        "<a href=\"https://colab.research.google.com/github/luanaassis/Bingo/blob/main/ScriptBingo.ipynb\" target=\"_parent\"><img src=\"https://colab.research.google.com/assets/colab-badge.svg\" alt=\"Open In Colab\"/></a>"
      ]
    },
    {
      "cell_type": "code",
      "source": [
        "import pandas as pd;\n",
        "\n",
        "df = pd.read_csv('bingo.csv', usecols=['Email Address', 'Nome completo','Bingo'], chunksize=5) #ler a planilha com as colunas em específico\n",
        "\n",
        "filtroBingo = pd.concat((i.query(\"Bingo == 'Sim'\") for i in df), ignore_index=True)"
      ],
      "metadata": {
        "id": "9hZCI8trOdIC"
      },
      "execution_count": null,
      "outputs": []
    },
    {
      "cell_type": "code",
      "source": [
        "import requests\n",
        "import smtplib\n",
        "from email.mime.text import MIMEText\n",
        "from email.mime.multipart import MIMEMultipart\n",
        "\n",
        "server = smtplib.SMTP_SSL('smtp.gmail.com', 465)\n",
        "server.login('', \"\")\n",
        "\n",
        "msg = MIMEMultipart('alternative')\n",
        "msg['Subject'] = \"Cartela Bingo - Jogatina\"\n",
        "\n",
        "for j in filtroBingo.itertuples():\n",
        "      r = requests.get(f\"http://www.profcardy.com/artigos/bingo.php?frase={j._2}\")\n",
        "      email = j._1\n",
        "      msg.attach(MIMEText(r.text, 'html'))\n",
        "      server.sendmail(\"\",email,msg.as_string())\n",
        "server.quit()"
      ],
      "metadata": {
        "id": "FBZ-aQgbOZ7E"
      },
      "execution_count": null,
      "outputs": []
    },
    {
      "cell_type": "markdown",
      "source": [
        "Jeito burro"
      ],
      "metadata": {
        "id": "NOkWQefgNact"
      }
    },
    {
      "cell_type": "code",
      "source": [
        "newDf = df.filter(items=['Email Address', 'Nome completo : 💛','Vai participar do Bingo? 🔢']) #filtrar as colunas\n",
        "filterBingo= newDf['Vai participar do Bingo? 🔢']=='Sim' #condicional da coluna do bingo\n",
        "dfFiltered = (newDf[filterBingo]) #data frame com as informações relevantes"
      ],
      "metadata": {
        "id": "Rkw9cvut31m0"
      },
      "execution_count": null,
      "outputs": []
    }
  ]
}